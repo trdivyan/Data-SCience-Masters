{
 "cells": [
  {
   "cell_type": "markdown",
   "id": "1280f0ec-a14a-4cec-a3ee-7dafec60207c",
   "metadata": {},
   "source": [
    "##loop for decision making\n"
   ]
  },
  {
   "cell_type": "code",
   "execution_count": 18,
   "id": "a8628068-2363-4caa-8ba5-e5361b010819",
   "metadata": {},
   "outputs": [
    {
     "name": "stdin",
     "output_type": "stream",
     "text": [
      "Enter your age :  15\n"
     ]
    },
    {
     "name": "stdout",
     "output_type": "stream",
     "text": [
      "you are not eligible for Driving\n"
     ]
    }
   ],
   "source": [
    "a=int(input(\"Enter your age : \"))\n",
    "if(a>=18):\n",
    "     print(\"you are eligible for Driving\")\n",
    "else: \n",
    "     print(\"you are not eligible for Driving\")\n",
    "                \n",
    " \n",
    "    \n",
    " \n"
   ]
  },
  {
   "cell_type": "code",
   "execution_count": 27,
   "id": "0145d8f6-0f76-411f-a006-ee1485d4f5fe",
   "metadata": {},
   "outputs": [
    {
     "name": "stdin",
     "output_type": "stream",
     "text": [
      "Enter your age :  17\n"
     ]
    }
   ],
   "source": [
    "b=int(input (\"Enter your age : \"))\n",
    "if(b>=18):\n",
    "    print (\"you are young Blood\")\n",
    "elif(b>=45):\n",
    "    print (\"you are old Blood\")\n",
    "\n",
    " "
   ]
  },
  {
   "cell_type": "code",
   "execution_count": 2,
   "id": "b2fdbba8-8d6a-46ff-b940-d929b22b7129",
   "metadata": {},
   "outputs": [
    {
     "name": "stdin",
     "output_type": "stream",
     "text": [
      "Enter the price of item in Rupees :  5000\n"
     ]
    },
    {
     "name": "stdout",
     "output_type": "stream",
     "text": [
      " Your discounted price with 20% Off is :  4000.0\n"
     ]
    }
   ],
   "source": [
    "c=int(input( \"Enter the price of item in Rupees : \"))\n",
    "if(c<=1000):\n",
    "    print(\"Your discounted price with 30% Off is :\" , c-c*0.3)\n",
    "else:\n",
    "    print(\" Your discounted price with 20% Off is : \" , c-c*0.2 )"
   ]
  },
  {
   "cell_type": "code",
   "execution_count": null,
   "id": "c02e88c1-7fd6-4edf-bb3c-47a34d97f290",
   "metadata": {},
   "outputs": [],
   "source": []
  }
 ],
 "metadata": {
  "kernelspec": {
   "display_name": "Python 3 (ipykernel)",
   "language": "python",
   "name": "python3"
  },
  "language_info": {
   "codemirror_mode": {
    "name": "ipython",
    "version": 3
   },
   "file_extension": ".py",
   "mimetype": "text/x-python",
   "name": "python",
   "nbconvert_exporter": "python",
   "pygments_lexer": "ipython3",
   "version": "3.10.8"
  }
 },
 "nbformat": 4,
 "nbformat_minor": 5
}
